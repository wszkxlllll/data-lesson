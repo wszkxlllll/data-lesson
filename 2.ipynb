{
 "cells": [
  {
   "cell_type": "code",
   "execution_count": 2,
   "metadata": {},
   "outputs": [
    {
     "name": "stdout",
     "output_type": "stream",
     "text": [
      "False\n"
     ]
    }
   ],
   "source": [
    "import re\n",
    "def validate_id_card(id_card):\n",
    "    pattern = r'^[1-9]\\d{5}(19|20)\\d{2}(0[1-9]|1[0-2])(0[1-9]|[1-2]\\d|3[0-1])\\d{3}(\\d|x|X)$'\n",
    "    return bool(re.match(pattern,id_card))\n",
    "print(validate_id_card('53228200510081327'))"
   ]
  },
  {
   "cell_type": "code",
   "execution_count": 12,
   "metadata": {},
   "outputs": [
    {
     "name": "stdout",
     "output_type": "stream",
     "text": [
      "6\n"
     ]
    }
   ],
   "source": [
    "def gongyueshu(a,b):\n",
    "    t = a % b\n",
    "    if t != 0:\n",
    "        return gongyueshu(b,t)\n",
    "    else:\n",
    "        return b\n",
    "print(gongyueshu(12,18))"
   ]
  },
  {
   "cell_type": "code",
   "execution_count": 15,
   "metadata": {},
   "outputs": [
    {
     "name": "stdout",
     "output_type": "stream",
     "text": [
      "良好\n",
      "None\n"
     ]
    }
   ],
   "source": [
    "def level(a):\n",
    "    if a<60:\n",
    "        print(\"不合格\")\n",
    "    elif 60<=a<=74:\n",
    "        print(\"合格\")\n",
    "    elif 75<=a<=89:\n",
    "        print(\"良好\")\n",
    "    else:\n",
    "        print(\"优秀\")\n",
    "print(level(88))"
   ]
  },
  {
   "cell_type": "code",
   "execution_count": 16,
   "metadata": {},
   "outputs": [
    {
     "name": "stdout",
     "output_type": "stream",
     "text": [
      "1000.11100011010100111111\n"
     ]
    }
   ],
   "source": [
    "def exchange(a):\n",
    "    b=int(a)\n",
    "    c=a-b\n",
    "    d=bin(b).replace(\"0b\",\"\")\n",
    "    e=''\n",
    "    while c >0 and len(e) <20:\n",
    "        c*=2\n",
    "        f=int(c)\n",
    "        e+=str(f)\n",
    "        c-=f\n",
    "    return d+\".\"+e\n",
    "print(exchange(8.888))"
   ]
  },
  {
   "cell_type": "code",
   "execution_count": 18,
   "metadata": {},
   "outputs": [
    {
     "name": "stdout",
     "output_type": "stream",
     "text": [
      "14.036085415688468\n"
     ]
    }
   ],
   "source": [
    "import random\n",
    "a=random.uniform(10,20)\n",
    "print(a)"
   ]
  },
  {
   "cell_type": "code",
   "execution_count": 21,
   "metadata": {},
   "outputs": [
    {
     "name": "stdout",
     "output_type": "stream",
     "text": [
      "True\n"
     ]
    }
   ],
   "source": [
    "def judge(a):\n",
    "    b=str(a)\n",
    "    c=b[::-1]\n",
    "    if b==c:\n",
    "        return True\n",
    "    else:\n",
    "        return False\n",
    "print(judge(52125))"
   ]
  },
  {
   "cell_type": "code",
   "execution_count": 23,
   "metadata": {},
   "outputs": [
    {
     "name": "stdout",
     "output_type": "stream",
     "text": [
      "[0, 1, 1, 2, 3, 5]\n"
     ]
    }
   ],
   "source": [
    "def feibonaqie(n):\n",
    "    l=[0,1]\n",
    "    if n==1:\n",
    "        print(\"[0]\")\n",
    "    elif n==2:\n",
    "        print(\"[0,1]\")\n",
    "    else:\n",
    "        a,b=0,1\n",
    "        while n>2:\n",
    "            c=a+b\n",
    "            a=b\n",
    "            b=c\n",
    "            l.append(c)\n",
    "            n-=1\n",
    "        return l\n",
    "print(feibonaqie(6))    \n",
    "        \n",
    "    "
   ]
  },
  {
   "cell_type": "code",
   "execution_count": 29,
   "metadata": {},
   "outputs": [
    {
     "name": "stdout",
     "output_type": "stream",
     "text": [
      "6\n"
     ]
    }
   ],
   "source": [
    "def second(l):\n",
    "    if len(l)==1 or len(l)==0:\n",
    "        return -1\n",
    "    else:\n",
    "        l.sort()\n",
    "                \n",
    "        return l[-2]\n",
    "print(second([1,6,2,9,5]))\n",
    "            \n",
    "            \n",
    "            "
   ]
  },
  {
   "cell_type": "code",
   "execution_count": null,
   "metadata": {},
   "outputs": [],
   "source": []
  }
 ],
 "metadata": {
  "kernelspec": {
   "display_name": "zkxzuishuai",
   "language": "python",
   "name": "python3"
  },
  "language_info": {
   "codemirror_mode": {
    "name": "ipython",
    "version": 3
   },
   "file_extension": ".py",
   "mimetype": "text/x-python",
   "name": "python",
   "nbconvert_exporter": "python",
   "pygments_lexer": "ipython3",
   "version": "3.11.9"
  }
 },
 "nbformat": 4,
 "nbformat_minor": 2
}
