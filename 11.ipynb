{
 "cells": [
  {
   "cell_type": "code",
   "execution_count": 1,
   "metadata": {},
   "outputs": [],
   "source": [
    "import pandas as pd\n",
    "import numpy as np\n",
    "from sklearn.model_selection import train_test_split\n",
    "from sklearn.impute import SimpleImputer\n",
    "from sklearn.preprocessing import StandardScaler\n",
    "from sklearn.neighbors import KNeighborsClassifier\n",
    "from sklearn.tree import DecisionTreeClassifier\n",
    "from sklearn.linear_model import LogisticRegression\n",
    "from sklearn.svm import SVC\n",
    "from sklearn.metrics import f1_score\n"
   ]
  },
  {
   "cell_type": "markdown",
   "metadata": {},
   "source": [
    "pandas 和 numpy：用于数据处理和数值计算。\n",
    "train_test_split：将数据分割为训练集和测试集。\n",
    "SimpleImputer：处理缺失值。\n",
    "StandardScaler：对数据进行标准化处理。\n",
    "KNeighborsClassifier, DecisionTreeClassifier, LogisticRegression, SVC：不同的分类模型。\n",
    "f1_score：评估模型性能的指标。"
   ]
  },
  {
   "cell_type": "code",
   "execution_count": 2,
   "metadata": {},
   "outputs": [
    {
     "name": "stdout",
     "output_type": "stream",
     "text": [
      "\n",
      "初始数据的概况：\n",
      "<class 'pandas.core.frame.DataFrame'>\n",
      "RangeIndex: 10086 entries, 0 to 10085\n",
      "Data columns (total 19 columns):\n",
      " #   Column                 Non-Null Count  Dtype  \n",
      "---  ------                 --------------  -----  \n",
      " 0   contain_IP             9996 non-null   float64\n",
      " 1   is_long                9997 non-null   float64\n",
      " 2   is_tinyurl             9998 non-null   float64\n",
      " 3   contain_at             10004 non-null  float64\n",
      " 4   contain_double_slash   9970 non-null   float64\n",
      " 5   contain_dash           9992 non-null   float64\n",
      " 6   contain_subdomain      9989 non-null   float64\n",
      " 7   is_SSL                 9990 non-null   float64\n",
      " 8   with_long_history      7291 non-null   float64\n",
      " 9   contain_icon           8728 non-null   float64\n",
      " 10  contain_ext_domain     8559 non-null   float64\n",
      " 11  contain_email_to       8007 non-null   float64\n",
      " 12  allow_right_click      6679 non-null   float64\n",
      " 13  contain_pop_up_window  9807 non-null   float64\n",
      " 14  contain_Iframe         9427 non-null   float64\n",
      " 15  has_DNSRecord          8885 non-null   float64\n",
      " 16  traffic                8579 non-null   float64\n",
      " 17  google_rank            9422 non-null   float64\n",
      " 18  y                      10086 non-null  int64  \n",
      "dtypes: float64(18), int64(1)\n",
      "memory usage: 1.5 MB\n",
      "None\n",
      "\n",
      "前五行数据示例：\n",
      "   contain_IP  is_long  is_tinyurl  contain_at  contain_double_slash  \\\n",
      "0         1.0      1.0         1.0         1.0                   1.0   \n",
      "1         0.0      0.0         1.0         1.0                   1.0   \n",
      "2         0.0      0.0         1.0         1.0                   1.0   \n",
      "3         1.0      0.0         1.0         1.0                   1.0   \n",
      "4         1.0      0.0         1.0         1.0                   1.0   \n",
      "\n",
      "   contain_dash  contain_subdomain  is_SSL  with_long_history  contain_icon  \\\n",
      "0           0.0                1.0     0.0                0.0           1.0   \n",
      "1           0.0                0.0     0.0                0.0           NaN   \n",
      "2           0.0                1.0     1.0                NaN           NaN   \n",
      "3           0.0                0.0     0.0                1.0           1.0   \n",
      "4           0.0                0.0     1.0                NaN           1.0   \n",
      "\n",
      "   contain_ext_domain  contain_email_to  allow_right_click  \\\n",
      "0                 1.0               NaN                NaN   \n",
      "1                 1.0               1.0                1.0   \n",
      "2                 NaN               1.0                NaN   \n",
      "3                 0.0               1.0                1.0   \n",
      "4                 0.0               1.0                NaN   \n",
      "\n",
      "   contain_pop_up_window  contain_Iframe  has_DNSRecord  traffic  google_rank  \\\n",
      "0                    1.0             1.0            1.0      1.0          1.0   \n",
      "1                    0.0             1.0            NaN      1.0          0.0   \n",
      "2                    1.0             1.0            1.0      1.0          1.0   \n",
      "3                    1.0             1.0            1.0      1.0          1.0   \n",
      "4                    1.0             1.0            1.0      NaN          0.0   \n",
      "\n",
      "   y  \n",
      "0  0  \n",
      "1  1  \n",
      "2  0  \n",
      "3  1  \n",
      "4  0  \n"
     ]
    }
   ],
   "source": [
    "file_path = 'fraudulent.csv'\n",
    "data = pd.read_csv(file_path)\n",
    "\n",
    "print(\"\\n初始数据的概况：\")\n",
    "print(data.info())  # 查看数据类型、缺失值和列信息\n",
    "print(\"\\n前五行数据示例：\")\n",
    "print(data.head())  # 展示前五行数据内容\n"
   ]
  },
  {
   "cell_type": "code",
   "execution_count": 3,
   "metadata": {},
   "outputs": [
    {
     "name": "stdout",
     "output_type": "stream",
     "text": [
      "KNN 模型的F1值: 0.8379\n",
      "Decision Tree 模型的F1值: 0.8667\n",
      "Logistic Regression 模型的F1值: 0.8500\n",
      "SVM 模型的F1值: 0.8615\n"
     ]
    }
   ],
   "source": [
    "#处理缺失值\n",
    "imputer = SimpleImputer(strategy='most_frequent')\n",
    "data_imputed = pd.DataFrame(imputer.fit_transform(data), columns=data.columns)\n",
    "#分割特征和标签\n",
    "X = data_imputed.drop(columns=['y'])  # 特征\n",
    "y = data_imputed['y']  # 标签\n",
    "#数据集划分\n",
    "X_train, X_test, y_train, y_test = train_test_split(X, y, test_size=0.2, random_state=1)\n",
    "#数据标准化\n",
    "scaler = StandardScaler()\n",
    "X_train = scaler.fit_transform(X_train)\n",
    "X_test = scaler.transform(X_test)\n",
    "#定义和训练分类模型\n",
    "models = {\n",
    "    'KNN': KNeighborsClassifier(),\n",
    "    'Decision Tree': DecisionTreeClassifier(random_state=1),\n",
    "    'Logistic Regression': LogisticRegression(max_iter=500, random_state=1),\n",
    "    'SVM': SVC(random_state=1)\n",
    "}\n",
    "#模型训练和评估\n",
    "for name, model in models.items():\n",
    "    model.fit(X_train, y_train)  # 训练模型\n",
    "    y_pred = model.predict(X_test)  # 预测\n",
    "    f1 = f1_score(y_test, y_pred)  # 计算F1值\n",
    "    print(f\"{name} 模型的F1值: {f1:.4f}\")\n"
   ]
  }
 ],
 "metadata": {
  "kernelspec": {
   "display_name": "base",
   "language": "python",
   "name": "python3"
  },
  "language_info": {
   "codemirror_mode": {
    "name": "ipython",
    "version": 3
   },
   "file_extension": ".py",
   "mimetype": "text/x-python",
   "name": "python",
   "nbconvert_exporter": "python",
   "pygments_lexer": "ipython3",
   "version": "3.11.7"
  }
 },
 "nbformat": 4,
 "nbformat_minor": 2
}
