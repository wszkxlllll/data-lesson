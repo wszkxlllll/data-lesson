{
 "cells": [
  {
   "cell_type": "code",
   "execution_count": 1,
   "metadata": {},
   "outputs": [
    {
     "name": "stdout",
     "output_type": "stream",
     "text": [
      "★ 数据科学与工程导论 ★\n"
     ]
    }
   ],
   "source": [
    "def surround_with_stars(text):\n",
    "    star = chr(0x2605)  # 黑色星星\n",
    "    return f\"{star} {text} {star}\"\n",
    "\n",
    "output = surround_with_stars(\"数据科学与工程导论\")\n",
    "print(output)"
   ]
  },
  {
   "cell_type": "code",
   "execution_count": 8,
   "metadata": {},
   "outputs": [
    {
     "name": "stdout",
     "output_type": "stream",
     "text": [
      "1 2 3\n"
     ]
    }
   ],
   "source": [
    "x,y,z=input().split()\n",
    "x=int(x)\n",
    "y=int(y)\n",
    "z=int(z)\n",
    "numbers=[x,y,z]\n",
    "numbers.sort()\n",
    "print(numbers[0],numbers[1],numbers[2])"
   ]
  },
  {
   "cell_type": "code",
   "execution_count": 9,
   "metadata": {},
   "outputs": [
    {
     "name": "stdout",
     "output_type": "stream",
     "text": [
      "98 8 5 3 "
     ]
    }
   ],
   "source": [
    "a=input()\n",
    "x,y,z,w=map(int,a.split())\n",
    "numbers=[x,y,z,w]\n",
    "numbers.sort(reverse=True)\n",
    "for i in numbers:\n",
    "    print(i,end=' ')"
   ]
  },
  {
   "cell_type": "code",
   "execution_count": 11,
   "metadata": {},
   "outputs": [
    {
     "name": "stdout",
     "output_type": "stream",
     "text": [
      "1\n",
      "3\n",
      "5\n",
      "7\n",
      "9\n",
      "11\n",
      "13\n",
      "15\n",
      "17\n",
      "19\n",
      "21\n",
      "23\n",
      "25\n",
      "27\n",
      "29\n",
      "31\n",
      "33\n",
      "35\n",
      "37\n",
      "39\n",
      "41\n",
      "43\n",
      "45\n",
      "47\n",
      "49\n",
      "51\n",
      "53\n",
      "55\n",
      "57\n",
      "59\n",
      "61\n",
      "63\n",
      "65\n",
      "67\n",
      "69\n",
      "71\n",
      "73\n",
      "75\n",
      "77\n",
      "79\n",
      "81\n",
      "83\n",
      "85\n",
      "87\n",
      "89\n",
      "91\n",
      "93\n",
      "95\n",
      "97\n",
      "99\n"
     ]
    }
   ],
   "source": [
    "for i in range(100):\n",
    "    if i%2==1:\n",
    "        print(i)\n",
    "    else:\n",
    "        continue"
   ]
  },
  {
   "cell_type": "markdown",
   "metadata": {},
   "source": []
  },
  {
   "cell_type": "code",
   "execution_count": 12,
   "metadata": {},
   "outputs": [
    {
     "name": "stdout",
     "output_type": "stream",
     "text": [
      "5050\n"
     ]
    }
   ],
   "source": [
    "a=0\n",
    "for i in range(101):\n",
    "    a+=i\n",
    "print(a)"
   ]
  },
  {
   "cell_type": "code",
   "execution_count": 14,
   "metadata": {},
   "outputs": [
    {
     "name": "stdout",
     "output_type": "stream",
     "text": [
      "[5, 4, 3, 2, 1]\n"
     ]
    }
   ],
   "source": [
    "L=input().split()\n",
    "a=len(L)\n",
    "Z=[]\n",
    "for i in range(a-1,-1,-1):\n",
    "    Z.append(int(L[i]))\n",
    "print(Z)\n",
    "    "
   ]
  },
  {
   "cell_type": "code",
   "execution_count": 19,
   "metadata": {},
   "outputs": [
    {
     "name": "stdout",
     "output_type": "stream",
     "text": [
      "[8, 7, 67, 5, 4]\n"
     ]
    }
   ],
   "source": [
    "L=input().split()\n",
    "a=len(L)\n",
    "Z=[]\n",
    "while a>0:\n",
    "    Z.append(int(L[a-1]))\n",
    "    a-=1\n",
    "print(Z)\n",
    "    \n",
    "    "
   ]
  },
  {
   "cell_type": "code",
   "execution_count": 20,
   "metadata": {},
   "outputs": [
    {
     "name": "stdout",
     "output_type": "stream",
     "text": [
      "yes\n"
     ]
    }
   ],
   "source": [
    "S=input()\n",
    "a=len(S)\n",
    "char=[char for char in S]\n",
    "for i in range(len(char)):\n",
    "    if char[i]==char[i+1]:\n",
    "        print(\"yes\")\n",
    "        break\n",
    "    else:\n",
    "        continue\n",
    "    \n",
    "\n"
   ]
  },
  {
   "cell_type": "code",
   "execution_count": 21,
   "metadata": {},
   "outputs": [
    {
     "name": "stdout",
     "output_type": "stream",
     "text": [
      "Iloveyou\n"
     ]
    }
   ],
   "source": [
    "S=input().split(\" \")\n",
    "result=\"\".join(S)\n",
    "print(result)\n"
   ]
  },
  {
   "cell_type": "code",
   "execution_count": 22,
   "metadata": {},
   "outputs": [
    {
     "name": "stdout",
     "output_type": "stream",
     "text": [
      "The cubic root of 27 is approximately 3.0000000000000018\n"
     ]
    }
   ],
   "source": [
    "def cubic_root(x, tolerance=1e-7, max_iterations=1000):\n",
    "    if x == 0:\n",
    "        return 0\n",
    "    \n",
    "    # 选择一个初始值\n",
    "    y_n = x / 3.0 if x > 1 else x  # 初始值可以是 x 的三分之一或 x 本身\n",
    "\n",
    "    for _ in range(max_iterations):\n",
    "        # 使用牛顿迭代法公式更新 y_n\n",
    "        y_n1 = (2 * y_n / 3) + (x / (3 * y_n**2))\n",
    "        \n",
    "        # 检查是否收敛\n",
    "        if abs(y_n1 - y_n) < tolerance:\n",
    "            return y_n1\n",
    "        \n",
    "        y_n = y_n1\n",
    "\n",
    "    return y_n  # 返回迭代得到的结果\n",
    "\n",
    "# 测试\n",
    "number = 27\n",
    "result = cubic_root(number)\n",
    "print(f\"The cubic root of {number} is approximately {result}\")\n"
   ]
  },
  {
   "cell_type": "code",
   "execution_count": 24,
   "metadata": {},
   "outputs": [
    {
     "name": "stdout",
     "output_type": "stream",
     "text": [
      "24\n"
     ]
    }
   ],
   "source": [
    "n=int(input())\n",
    "a=1\n",
    "for i in range(1,n+1):\n",
    "    a*=i\n",
    "print(a)"
   ]
  }
 ],
 "metadata": {
  "kernelspec": {
   "display_name": "zkxzuishuai",
   "language": "python",
   "name": "python3"
  },
  "language_info": {
   "codemirror_mode": {
    "name": "ipython",
    "version": 3
   },
   "file_extension": ".py",
   "mimetype": "text/x-python",
   "name": "python",
   "nbconvert_exporter": "python",
   "pygments_lexer": "ipython3",
   "version": "3.11.9"
  }
 },
 "nbformat": 4,
 "nbformat_minor": 2
}
