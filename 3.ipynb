{
 "cells": [
  {
   "cell_type": "code",
   "execution_count": 8,
   "metadata": {},
   "outputs": [
    {
     "name": "stdout",
     "output_type": "stream",
     "text": [
      "13是质数\n"
     ]
    }
   ],
   "source": [
    "import math\n",
    "a = int(input())\n",
    "flag = 1\n",
    "for i in range(2,int(math.sqrt(a))+1):\n",
    "    if a % i == 0:\n",
    "        flag = 0\n",
    "        break\n",
    "if flag and a > 1:\n",
    "    print(\"%d是质数\" % (a))\n"
   ]
  },
  {
   "cell_type": "code",
   "execution_count": 31,
   "metadata": {},
   "outputs": [
    {
     "name": "stdout",
     "output_type": "stream",
     "text": [
      "[8, 6, 5, 4]\n"
     ]
    }
   ],
   "source": [
    "l=input().split(\" \")\n",
    "L=list(map(int,l))\n",
    "def insert_sort(L):\n",
    "    for i in range(1,len(L)):\n",
    "        key = L[i]\n",
    "        j = i - 1\n",
    "        while j >= 0 and L[j] > key:\n",
    "            L[j+1] = L[j]\n",
    "            j-=1\n",
    "        L[j+1] = key\n",
    "    return L\n",
    "for i in range(1,len(L)):\n",
    "    key = L[i]\n",
    "    j = i - 1\n",
    "    while j >= 0 and L[j] < key:\n",
    "        L[j+1] = L[j]\n",
    "        j-=1\n",
    "    L[j+1] = key\n",
    "print(L)"
   ]
  },
  {
   "cell_type": "code",
   "execution_count": 30,
   "metadata": {},
   "outputs": [
    {
     "name": "stdout",
     "output_type": "stream",
     "text": [
      "[3, 2, 1]\n"
     ]
    }
   ],
   "source": [
    "l=input().split(\" \")\n",
    "L=list(map(int,l))\n",
    "L1 = []\n",
    "L2 = []\n",
    "#降序\n",
    "for i in range(len(L)):\n",
    "    max = 0\n",
    "    for j in range(len(L) - i):\n",
    "        if L[max] < L[j]:\n",
    "            max = j\n",
    "    L1.append(L[max])\n",
    "    L[max] = L[len(L) - i -1]\n",
    "print(L1)\n",
    "#升序\n",
    "def selection_sort(L):\n",
    "    for i in range(len(L)):\n",
    "        min = 0\n",
    "        for j in range(len(L) - i):\n",
    "            if L[min] > L[j]:\n",
    "                min = j\n",
    "        L2.append(L[min])\n",
    "        L[min] = L[len(L)-i-1]\n",
    "    return L2\n"
   ]
  },
  {
   "cell_type": "code",
   "execution_count": 29,
   "metadata": {},
   "outputs": [
    {
     "name": "stdout",
     "output_type": "stream",
     "text": [
      "[1, 2, 5, 6, 6, 6, 9]\n"
     ]
    }
   ],
   "source": [
    "def quick_sort(arr):\n",
    "    if len(arr) <= 1:\n",
    "        return arr\n",
    "    pivot = arr[len(arr)//2]\n",
    "    left = [x for x in arr if x < pivot]\n",
    "    middle = [x for x in arr if x == pivot]\n",
    "    right = [x for x in arr if x > pivot]\n",
    "    return quick_sort(left) + middle + quick_sort(right)\n",
    "arr = [6,5,6,1,2,6,9]\n",
    "a = quick_sort(arr)\n",
    "print(a)"
   ]
  },
  {
   "cell_type": "code",
   "execution_count": 40,
   "metadata": {},
   "outputs": [],
   "source": [
    "import random\n",
    "start = random.randint(1,10)\n",
    "a = [start + i*random.randint(1,5) for i in range(100)]\n",
    "b = [start + i*random.randint(1,5) for i in range(1000)]\n",
    "c = [start + i*random.randint(1,5) for i in range(10000)]\n",
    "#a1 = quick_sort(a)\n",
    "#a2 = selection_sort(a)\n",
    "#a3 = insert_sort(a)\n",
    "#b1 = quick_sort(b)\n",
    "#b2 = selection_sort(b)\n",
    "#b3 = insert_sort(b)\n",
    "#c1 = quick_sort(c)\n",
    "#c2 = selection_sort(c)\n",
    "#c3 = insert_sort(c)"
   ]
  },
  {
   "cell_type": "markdown",
   "metadata": {},
   "source": [
    "对于c来说 1,2,3分别用时为 0.4s 2.2s 1.0s（具有偶然性）\n",
    "对于a，b来说 1,2,3用时均不足0.01s \n",
    "这说明随着数目增多，快排的时间复杂度数量级更低 为nlogn级别\n",
    "插入排序和选择排序时间复杂度数量级大概相同，具有偶然性 均为n方级别"
   ]
  },
  {
   "cell_type": "code",
   "execution_count": 4,
   "metadata": {},
   "outputs": [
    {
     "name": "stdout",
     "output_type": "stream",
     "text": [
      "2024-10-16 22:04:39.180939\n"
     ]
    }
   ],
   "source": [
    "import datetime\n",
    "time = datetime.datetime.now()\n",
    "print(time)"
   ]
  },
  {
   "cell_type": "code",
   "execution_count": 9,
   "metadata": {},
   "outputs": [
    {
     "name": "stdout",
     "output_type": "stream",
     "text": [
      "82.60,81.00,81.80\n"
     ]
    }
   ],
   "source": [
    "import pandas as pd\n",
    "import numpy as np\n",
    "df = pd.read_csv(r'C:\\Users\\lenovo\\Desktop\\stuGrade.csv')\n",
    "chinese = df['chinese'].mean()\n",
    "math = df['math'].mean()\n",
    "english = df['english'].mean()\n",
    "print(f\"{chinese:.2f},{math:.2f},{english:.2f}\")"
   ]
  },
  {
   "cell_type": "code",
   "execution_count": 11,
   "metadata": {},
   "outputs": [],
   "source": [
    "import datetime\n",
    "import time\n",
    "id = \"10234700473\"\n",
    "name = \"周可轩\"\n",
    "grades = [82.60,81.00,81.80]\n",
    "average = sum(grades) / len(grades)\n",
    "current_time = datetime.datetime.now().strftime(\"%Y-%m-%d %H:%M:%S\")\n",
    "time.sleep(2)\n",
    "future_time = datetime.datetime.now().strftime(\"%Y-%m-%d %H:%M:%S\")\n",
    "with open(\"my.txt\",\"w\") as file:\n",
    "    file.write(f\"{id}{name}\\n\")\n",
    "    file.write(f\"{average:.2f}\\n\")\n",
    "    file.write(f\"{current_time}\\n\")\n",
    "    file.write(f\"{future_time}\\n\")"
   ]
  },
  {
   "cell_type": "code",
   "execution_count": null,
   "metadata": {},
   "outputs": [],
   "source": []
  }
 ],
 "metadata": {
  "kernelspec": {
   "display_name": "base",
   "language": "python",
   "name": "python3"
  },
  "language_info": {
   "codemirror_mode": {
    "name": "ipython",
    "version": 3
   },
   "file_extension": ".py",
   "mimetype": "text/x-python",
   "name": "python",
   "nbconvert_exporter": "python",
   "pygments_lexer": "ipython3",
   "version": "3.11.7"
  }
 },
 "nbformat": 4,
 "nbformat_minor": 2
}
